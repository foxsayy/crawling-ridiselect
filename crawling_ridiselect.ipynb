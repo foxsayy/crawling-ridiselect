{
 "cells": [
  {
   "cell_type": "markdown",
   "metadata": {},
   "source": [
    "# 리디셀렉트를 구독하려는데 어떤 책들이 있는지 궁금해서 크롤링\n",
    "- 리디셀렉트를 구독하기 전에는 책 검색이 안됩니다.\n",
    "- https://select.ridibooks.com/books\n",
    "- 위 주소로 들어가면 서비스 도서 목록이 나오는데 하나하나 넘겨보기 귀찮습니다. \n",
    "- 각 페이지에서 책 제목들만 긁어내봤습니다."
   ]
  },
  {
   "cell_type": "code",
   "execution_count": 6,
   "metadata": {},
   "outputs": [],
   "source": [
    "from selenium import webdriver\n",
    "import numpy as np\n",
    "import time"
   ]
  },
  {
   "cell_type": "code",
   "execution_count": 7,
   "metadata": {},
   "outputs": [],
   "source": [
    "# 브라우저 열기\n",
    "driver = webdriver.Chrome()"
   ]
  },
  {
   "cell_type": "code",
   "execution_count": 9,
   "metadata": {},
   "outputs": [],
   "source": [
    "book_list = []\n",
    "for i in range(1, 109):\n",
    "    url = \"https://select.ridibooks.com/books?page={}\".format(i)\n",
    "    driver.get(url)\n",
    "    time.sleep(2)\n",
    "    book = driver.find_element_by_css_selector(\".GridBookList\").text.split(\"\\n\")\n",
    "    book_list.append(book)"
   ]
  },
  {
   "cell_type": "code",
   "execution_count": 10,
   "metadata": {},
   "outputs": [],
   "source": [
    "# 브라우저 닫기\n",
    "driver.quit()"
   ]
  },
  {
   "cell_type": "code",
   "execution_count": null,
   "metadata": {},
   "outputs": [],
   "source": [
    "# 페이지별로 긁어오기 때문에 현재 리스트 속의 리스트 형태로 저장되어 있는데 이를 하나의 리스트로 변환해줍니다.\n",
    "ls = sum(book_list, [])"
   ]
  },
  {
   "cell_type": "code",
   "execution_count": 17,
   "metadata": {},
   "outputs": [],
   "source": [
    "#판다스 데이터프레임으로 만든 뒤 csv 파일로 내보내기\n",
    "import pandas as pd\n",
    "df = pd.DataFrame({\"title\": ls})\n",
    "df.to_csv(\"ridiselect.csv\", mode='w')"
   ]
  },
  {
   "cell_type": "markdown",
   "metadata": {},
   "source": [
    "csv 파일을 열어서 보고 싶은 책들을 미리 체크해두고 시간날때 읽으면 됩니다.\n",
    "### 좐~~"
   ]
  }
 ],
 "metadata": {
  "kernelspec": {
   "display_name": "Python 3",
   "language": "python",
   "name": "python3"
  },
  "language_info": {
   "codemirror_mode": {
    "name": "ipython",
    "version": 3
   },
   "file_extension": ".py",
   "mimetype": "text/x-python",
   "name": "python",
   "nbconvert_exporter": "python",
   "pygments_lexer": "ipython3",
   "version": "3.7.0"
  }
 },
 "nbformat": 4,
 "nbformat_minor": 2
}
